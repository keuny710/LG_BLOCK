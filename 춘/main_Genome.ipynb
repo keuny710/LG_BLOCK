{
 "cells": [
  {
   "cell_type": "markdown",
   "metadata": {},
   "source": [
    "## [Dacon] 블럭 장난감 제조 공정 최적화 경진대회\n",
    "## 팀명 : 춘\n",
    "## 2020년 7월 3일 (제출날짜)"
   ]
  },
  {
   "cell_type": "markdown",
   "metadata": {},
   "source": [
    "## 1. 라이브러리 및 데이터 (Library & Data)\n",
    "### 유전알고리즘 실행 속도를 개선한 genome_quick.py 사용"
   ]
  },
  {
   "cell_type": "code",
   "execution_count": 3,
   "metadata": {},
   "outputs": [],
   "source": [
    "import time\n",
    "import pandas as pd\n",
    "import numpy as np\n",
    "import multiprocessing\n",
    "import warnings\n",
    "from copy import deepcopy\n",
    "from module.genome_quick import Genome, genome_score\n",
    "from module.Data import Data\n",
    "warnings.filterwarnings(action='ignore')\n",
    "# np.random.seed(777)"
   ]
  },
  {
   "cell_type": "markdown",
   "metadata": {},
   "source": [
    "## 2. 변수 선택 및 모델 구축 (Feature Engineering & Initial Modeling)\n",
    "\n",
    "### 유전알고리즘에서 데이터 프레임 실행부분이 오래 걸리기 때문에 input 데이터를 미리 한번만 만듬\n"
   ]
  },
  {
   "cell_type": "code",
   "execution_count": 4,
   "metadata": {
    "scrolled": true
   },
   "outputs": [],
   "source": [
    "CPU_CORE = multiprocessing.cpu_count() # 멀티프로세싱 CPU 사용 수\n",
    "N_POPULATION = 50                      # 세대당 생성수\n",
    "N_BEST = 5                             # 베스트 수\n",
    "N_CHILDREN = 5                         # 자손 유전자 수\n",
    "PROB_MUTATION = 0.5                    # 돌연변이\n",
    "REVERSE = True                         # 배열 순서 (False: ascending order, True: descending order)\n",
    "\n",
    "score_ini = 0                          # 초기 점수\n",
    "input_length = 125                     # 입력 데이터 길이\n",
    "output_length_1 = 5                   # Event (CHECK_1~4, PROCESS, CHANGE, STOP)\n",
    "output_length_2 = 12                   # MOL(0~5.5, step:0.5)\n",
    "h1 = 50                                # 히든레이어1 노드 수\n",
    "h2 = 50                                # 히든레이어2 노드 수\n",
    "h3 = 50                                # 히든레이어3 노드 수\n",
    "EPOCHS = 10                          # 반복 횟수\n",
    "\n",
    "\n",
    "# 유전알고리즘 속도 개선을 위해 input 데이터를 미리 한번만 만들고 Genome class에 인스턴스로 추가함.\n",
    "order = pd.read_csv('./data/order.csv')\n",
    "for i in range(30):\n",
    "    order.loc[91+i,:] = ['0000-00-00', 0, 0, 0, 0] \n",
    "    \n",
    "input_dic = {\n",
    "    s : np.append(np.array(order.loc[s//24:(s//24+30), 'BLK_1':'BLK_4']).reshape(-1), s%24)\n",
    "    \n",
    "    for s in range(2184) \n",
    "}\n",
    "\n",
    "# genome과 best_genomes 초기화.\n",
    "genomes = []\n",
    "for _ in range(N_POPULATION):\n",
    "    genome = Genome(score_ini, input_length, output_length_1, output_length_2, input_dic, h1, h2, h3)\n",
    "    genomes.append(genome)\n",
    "try:\n",
    "    for i in range(N_BEST):\n",
    "        genomes[i] = best_genomes[i]\n",
    "except:\n",
    "    best_genomes = []\n",
    "    for _ in range(5):\n",
    "        genome = Genome(score_ini, input_length, output_length_1, output_length_2, input_dic, h1, h2, h3)\n",
    "        best_genomes.append(genome)"
   ]
  },
  {
   "cell_type": "markdown",
   "metadata": {},
   "source": [
    "## 3. 모델 학습 및 검증 (Model Tuning & Evaluation)\n",
    "1. PRT는 고정값 사용.\n",
    "2. Event A와 Event B (MOL_A, MOL_B)를 다른 값으로 설정.\n",
    "3. Event는 CHECK와 PROCESS 만 사용함.\n",
    "4. 목적 함수로 score 평가식을 사용함.\n",
    "5. Event와 MOL에 대한 인공신경망 모델을 유전 알고리즘으로 학습"
   ]
  },
  {
   "cell_type": "code",
   "execution_count": 5,
   "metadata": {
    "scrolled": true
   },
   "outputs": [
    {
     "name": "stdout",
     "output_type": "stream",
     "text": [
      "EPOCH #1\tHistory Best Score: 87.27203330913528\tBest Score: 87.27203330913528\tMean Score: 82.97966712369546\tSolve Time: 30.26993203163147\n",
      "EPOCH #2\tHistory Best Score: 89.11653097632227\tBest Score: 89.11653097632227\tMean Score: 88.74804273808073\tSolve Time: 35.23268413543701\n",
      "EPOCH #3\tHistory Best Score: 89.795798755362\tBest Score: 89.795798755362\tMean Score: 88.96638635635405\tSolve Time: 31.762394905090332\n",
      "EPOCH #4\tHistory Best Score: 89.85314230082612\tBest Score: 89.85314230082612\tMean Score: 87.9647894078277\tSolve Time: 29.396706104278564\n",
      "EPOCH #5\tHistory Best Score: 90.22620897838857\tBest Score: 90.22620897838857\tMean Score: 88.61647613901089\tSolve Time: 52.32519507408142\n",
      "EPOCH #6\tHistory Best Score: 90.22620897838857\tBest Score: 89.66683276586188\tMean Score: 88.96569365512339\tSolve Time: 38.36196303367615\n",
      "EPOCH #7\tHistory Best Score: 90.22620897838857\tBest Score: 89.02976053145188\tMean Score: 88.58962840578874\tSolve Time: 35.136098861694336\n",
      "EPOCH #8\tHistory Best Score: 90.22620897838857\tBest Score: 90.16378445649465\tMean Score: 88.43084584939923\tSolve Time: 47.02544903755188\n",
      "EPOCH #9\tHistory Best Score: 90.62471187370645\tBest Score: 90.62471187370645\tMean Score: 90.28970358052314\tSolve Time: 36.28387904167175\n",
      "EPOCH #10\tHistory Best Score: 90.62471187370645\tBest Score: 90.5838600736141\tMean Score: 89.96782760992576\tSolve Time: 34.83327317237854\n"
     ]
    }
   ],
   "source": [
    "n_gen = 1\n",
    "score_history = []\n",
    "high_score_history = []\n",
    "mean_score_history = []\n",
    "while n_gen <= EPOCHS:    \n",
    "    start_time = time.time()\n",
    "    genomes = np.array(genomes)    \n",
    "    while len(genomes)%CPU_CORE != 0:\n",
    "        genomes = np.append(genomes, Genome(score_ini, input_length, output_length_1, output_length_2, input_dic, h1, h2, h3))\n",
    "    genomes = genomes.reshape((len(genomes)//CPU_CORE, CPU_CORE))\n",
    "    \n",
    "    for idx, _genomes in enumerate(genomes):\n",
    "        if __name__ == '__main__':\n",
    "            pool = multiprocessing.Pool(processes=CPU_CORE)\n",
    "            genomes[idx] = pool.map(genome_score, _genomes)\n",
    "            pool.close()\n",
    "            pool.join()    \n",
    "    genomes = list(genomes.reshape(genomes.shape[0]*genomes.shape[1]))    \n",
    "    \n",
    "    # score에 따라 정렬\n",
    "    genomes.sort(key=lambda x: x.score, reverse=REVERSE)\n",
    "    \n",
    "    # 평균 점수\n",
    "    s = 0 \n",
    "    for i in range(N_BEST):\n",
    "        s += genomes[i].score\n",
    "    s /= N_BEST\n",
    "    \n",
    "    # Best Score\n",
    "    bs = genomes[0].score \n",
    "    \n",
    "    # Best Model 추가\n",
    "    if best_genomes is not None:\n",
    "        genomes.extend(best_genomes)\n",
    "        \n",
    "    # score에 따라 정렬\n",
    "    genomes.sort(key=lambda x: x.score, reverse=REVERSE)\n",
    "    \n",
    "    score_history.append([n_gen, genomes[0].score])\n",
    "    high_score_history.append([n_gen, bs])\n",
    "    mean_score_history.append([n_gen, s])\n",
    "    \n",
    "    solve_time = time.time() - start_time\n",
    "    \n",
    "    # 결과 출력\n",
    "    print(f'EPOCH #{n_gen}\\tHistory Best Score: {genomes[0].score}\\tBest Score: {bs}\\tMean Score: {s}\\tSolve Time: {solve_time}')\n",
    "    \n",
    "    # 모델 업데이트\n",
    "    best_genomes = deepcopy(genomes[:N_BEST])\n",
    "    \n",
    "    # CHILDREN 생성\n",
    "    for i in range(N_CHILDREN):\n",
    "        new_genome = deepcopy(best_genomes[0])\n",
    "        a_genome = np.random.choice(best_genomes)\n",
    "        b_genome = np.random.choice(best_genomes)\n",
    "        \n",
    "        for j in range(input_length):\n",
    "            cut = np.random.randint(new_genome.m1_event_net.w1.shape[1])\n",
    "            new_genome.m1_event_net.w1[j, :cut] = a_genome.m1_event_net.w1[j, :cut]\n",
    "            new_genome.m1_event_net.w1[j, cut:] = b_genome.m1_event_net.w1[j, cut:]\n",
    "            \n",
    "            cut = np.random.randint(new_genome.m2_event_net.w1.shape[1])\n",
    "            new_genome.m2_event_net.w1[j, :cut] = a_genome.m2_event_net.w1[j, :cut]\n",
    "            new_genome.m2_event_net.w1[j, cut:] = b_genome.m2_event_net.w1[j, cut:]\n",
    "        \n",
    "        for j in range(h1):\n",
    "            cut = np.random.randint(new_genome.m1_event_net.w2.shape[1])\n",
    "            new_genome.m1_event_net.w2[j, :cut] = a_genome.m1_event_net.w2[j, :cut]\n",
    "            new_genome.m1_event_net.w2[j, cut:] = b_genome.m1_event_net.w2[j, cut:]\n",
    "        \n",
    "            cut = np.random.randint(new_genome.m2_event_net.w2.shape[1])\n",
    "            new_genome.m2_event_net.w2[j, :cut] = a_genome.m2_event_net.w2[j, :cut]\n",
    "            new_genome.m2_event_net.w2[j, cut:] = b_genome.m2_event_net.w2[j, cut:]\n",
    "            \n",
    "        for j in range(h2):\n",
    "            cut = np.random.randint(new_genome.m1_event_net.w3.shape[1])\n",
    "            new_genome.m1_event_net.w3[j, :cut] = a_genome.m1_event_net.w3[j, :cut]\n",
    "            new_genome.m1_event_net.w3[j, cut:] = b_genome.m1_event_net.w3[j, cut:]\n",
    "            \n",
    "            cut = np.random.randint(new_genome.m2_event_net.w3.shape[1])\n",
    "            new_genome.m2_event_net.w3[j, :cut] = a_genome.m2_event_net.w3[j, :cut]\n",
    "            new_genome.m2_event_net.w3[j, cut:] = b_genome.m2_event_net.w3[j, cut:]\n",
    "        \n",
    "        for j in range(h3):\n",
    "            cut = np.random.randint(new_genome.m1_event_net.w4.shape[1])\n",
    "            new_genome.m1_event_net.w4[j, :cut] = a_genome.m1_event_net.w4[j, :cut]\n",
    "            new_genome.m1_event_net.w4[j, cut:] = b_genome.m1_event_net.w4[j, cut:]\n",
    "            \n",
    "            cut = np.random.randint(new_genome.m2_event_net.w4.shape[1])\n",
    "            new_genome.m2_event_net.w4[j, :cut] = a_genome.m2_event_net.w4[j, :cut]\n",
    "            new_genome.m2_event_net.w4[j, cut:] = b_genome.m2_event_net.w4[j, cut:]\n",
    "            \n",
    "        best_genomes.append(new_genome)\n",
    "    \n",
    "    # 모델 초기화\n",
    "    genomes = []\n",
    "    for i in range(int(N_POPULATION / len(best_genomes))):\n",
    "        for bg in best_genomes:\n",
    "            new_genome = deepcopy(bg)            \n",
    "            mean = 0\n",
    "            stddev = 0.2                        \n",
    "            # 50% 확률로 모델 변형\n",
    "            if np.random.uniform(0, 1) < PROB_MUTATION:\n",
    "                new_genome.m1_event_net.w1 += new_genome.m1_event_net.w1 * np.random.normal(mean, stddev, size=(input_length, h1)) * np.random.randint(0, 2, (input_length, h1))\n",
    "            if np.random.uniform(0, 1) < PROB_MUTATION:\n",
    "                new_genome.m2_event_net.w1 += new_genome.m2_event_net.w1 * np.random.normal(mean, stddev, size=(input_length, h1)) * np.random.randint(0, 2, (input_length, h1))\n",
    "                \n",
    "            if np.random.uniform(0, 1) < PROB_MUTATION:\n",
    "                new_genome.m1_event_net.w2 += new_genome.m1_event_net.w2 * np.random.normal(mean, stddev, size=(h1, h2)) * np.random.randint(0, 2, (h1, h2))\n",
    "            if np.random.uniform(0, 1) < PROB_MUTATION:\n",
    "                new_genome.m2_event_net.w2 += new_genome.m2_event_net.w2 * np.random.normal(mean, stddev, size=(h1, h2)) * np.random.randint(0, 2, (h1, h2))\n",
    "                \n",
    "            if np.random.uniform(0, 1) < PROB_MUTATION:\n",
    "                new_genome.m1_event_net.w3 += new_genome.m1_event_net.w3 * np.random.normal(mean, stddev, size=(h2, h3)) * np.random.randint(0, 2, (h2, h3))\n",
    "            if np.random.uniform(0, 1) < PROB_MUTATION:\n",
    "                new_genome.m2_event_net.w3 += new_genome.m2_event_net.w3 * np.random.normal(mean, stddev, size=(h2, h3)) * np.random.randint(0, 2, (h2, h3))\n",
    "                \n",
    "            if np.random.uniform(0, 1) < PROB_MUTATION:\n",
    "                new_genome.m1_event_net.w4 += new_genome.m1_event_net.w4 * np.random.normal(mean, stddev, size=(h3, output_length_1)) * np.random.randint(0, 2, (h3, output_length_1))                \n",
    "            if np.random.uniform(0, 1) < PROB_MUTATION:\n",
    "                new_genome.m2_event_net.w4 += new_genome.m2_event_net.w4 * np.random.normal(mean, stddev, size=(h3, output_length_1)) * np.random.randint(0, 2, (h3, output_length_1)) \n",
    "                \n",
    "            # amount\n",
    "            \n",
    "            if np.random.uniform(0, 1) < PROB_MUTATION:\n",
    "                new_genome.m1_amount_net.w1 += new_genome.m1_amount_net.w1 * np.random.normal(mean, stddev, size=(input_length, h1)) * np.random.randint(0, 2, (input_length, h1))\n",
    "            if np.random.uniform(0, 1) < PROB_MUTATION:\n",
    "                new_genome.m2_amount_net.w1 += new_genome.m2_amount_net.w1 * np.random.normal(mean, stddev, size=(input_length, h1)) * np.random.randint(0, 2, (input_length, h1))\n",
    "                \n",
    "            if np.random.uniform(0, 1) < PROB_MUTATION:\n",
    "                new_genome.m1_amount_net.w2 += new_genome.m1_amount_net.w2 * np.random.normal(mean, stddev, size=(h1, h2)) * np.random.randint(0, 2, (h1, h2))\n",
    "            if np.random.uniform(0, 1) < PROB_MUTATION:\n",
    "                new_genome.m2_amount_net.w2 += new_genome.m2_amount_net.w2 * np.random.normal(mean, stddev, size=(h1, h2)) * np.random.randint(0, 2, (h1, h2))\n",
    "                \n",
    "            if np.random.uniform(0, 1) < PROB_MUTATION:\n",
    "                new_genome.m1_amount_net.w3 += new_genome.m1_amount_net.w3 * np.random.normal(mean, stddev, size=(h2, h3)) * np.random.randint(0, 2, (h2, h3))\n",
    "            if np.random.uniform(0, 1) < PROB_MUTATION:\n",
    "                new_genome.m2_amount_net.w3 += new_genome.m2_amount_net.w3 * np.random.normal(mean, stddev, size=(h2, h3)) * np.random.randint(0, 2, (h2, h3))\n",
    "                \n",
    "            if np.random.uniform(0, 1) < PROB_MUTATION:\n",
    "                new_genome.m1_amount_net.w4 += new_genome.m1_amount_net.w4 * np.random.normal(mean, stddev, size=(h3, output_length_2)) * np.random.randint(0, 2, (h3, output_length_2))                \n",
    "            if np.random.uniform(0, 1) < PROB_MUTATION:\n",
    "                new_genome.m2_amount_net.w4 += new_genome.m2_amount_net.w4 * np.random.normal(mean, stddev, size=(h3, output_length_2)) * np.random.randint(0, 2, (h3, output_length_2)) \n",
    "            genomes.append(new_genome)\n",
    "            \n",
    "    if REVERSE:\n",
    "        if bs < score_ini:\n",
    "            genomes[len(genomes)//2:] = [Genome(score_ini, input_length, output_length_1, output_length_2, input_dic, h1, h2, h3) for _ in range(N_POPULATION//2)]\n",
    "    else:\n",
    "        if bs > score_ini:\n",
    "            genomes[len(genomes)//2:] = [Genome(score_ini, input_length, output_length_1, output_length_2, input_dic, h1, h2, h3) for _ in range(N_POPULATION//2)]  \n",
    "        \n",
    "    n_gen += 1"
   ]
  },
  {
   "cell_type": "markdown",
   "metadata": {},
   "source": [
    "## 4. 결과 및 결언 (Conclusion & Discussion)"
   ]
  },
  {
   "cell_type": "markdown",
   "metadata": {},
   "source": [
    "### scroe 계산\n",
    "\n",
    "### 시뮬레이터 속도를 개선한 sim_block을 사용함\n",
    "\n"
   ]
  },
  {
   "cell_type": "code",
   "execution_count": 6,
   "metadata": {},
   "outputs": [
    {
     "name": "stdout",
     "output_type": "stream",
     "text": [
      "score : 90.62471187370645\n"
     ]
    }
   ],
   "source": [
    "from module.sim_block import Simulator\n",
    "simulator = Simulator()\n",
    "data = Data()\n",
    "submission = best_genomes[0].predict(data)\n",
    "score, df_stock =simulator.get_score(submission)\n",
    "print(f'score : {score}')"
   ]
  },
  {
   "cell_type": "markdown",
   "metadata": {},
   "source": [
    "### Submission 파일 만들기"
   ]
  },
  {
   "cell_type": "code",
   "execution_count": 7,
   "metadata": {
    "scrolled": true
   },
   "outputs": [],
   "source": [
    "# PRT 개수 계산\n",
    "PRTs = df_stock[['PRT_1', 'PRT_2', 'PRT_3', 'PRT_4']].values\n",
    "PRTs = (PRTs[:-1] - PRTs[1:])[24*23:]\n",
    "PRTs = np.ceil(PRTs * 1.1)\n",
    "PAD = np.zeros((24*23+1, 4))\n",
    "PRTs = np.append(PRTs, PAD, axis=0).astype(int)\n",
    "\n",
    "# Submission 파일에 PRT 입력\n",
    "submission.loc[:, 'PRT_1':'PRT_4'] = PRTs\n",
    "submission.to_csv(f'submission_{score}.csv', index=False)"
   ]
  }
 ],
 "metadata": {
  "kernelspec": {
   "display_name": "Python 3",
   "language": "python",
   "name": "python3"
  },
  "language_info": {
   "codemirror_mode": {
    "name": "ipython",
    "version": 3
   },
   "file_extension": ".py",
   "mimetype": "text/x-python",
   "name": "python",
   "nbconvert_exporter": "python",
   "pygments_lexer": "ipython3",
   "version": "3.7.6"
  }
 },
 "nbformat": 4,
 "nbformat_minor": 4
}
